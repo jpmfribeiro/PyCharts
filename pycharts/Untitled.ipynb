{
 "cells": [
  {
   "cell_type": "code",
   "execution_count": 1,
   "metadata": {
    "collapsed": false
   },
   "outputs": [
    {
     "name": "stdout",
     "output_type": "stream",
     "text": [
      "{chart: {type: 'pie', backgroundColor: '#FFFFFF'}, title: {text: 'Browser market shares at a specific website, 2014'}, plotOptions: {pie: {allowPointSelect: true, cursor: 'pointer', dataLabels: {enabled: false}, showInLegend: true},}, series: [{name: 'Browser share',data: [['Firefox', 45.0], ['IE', 26.8], ['Chrome', 12.8], ['Safari', 8.5], ['Opera', 6.2], ['Others', 0.7]]},]}\n"
     ]
    },
    {
     "data": {
      "text/html": [
       "\n",
       "        <script src=\"http://code.highcharts.com/highcharts.js\"></script>\n",
       "        <script src=\"http://code.highcharts.com/modules/exporting.js\"></script>\n",
       "\n",
       "        <div id=\"chart_544NSZLFBYFJ5ED\" style=\"min-width: 400px; height: 400px; margin: 0 auto\">Re-run cell if chart is not shown ...</div>\n",
       "        <script>\n",
       "            do_chart_544NSZLFBYFJ5ED = function() {\n",
       "                $('#chart_544NSZLFBYFJ5ED').highcharts(<bound method PieChart.to_javascript of <pycharts.charts.pie_chart.PieChart object at 0x7fb9942a1510>>);\n",
       "            }\n",
       "            setTimeout(\"do_chart_544NSZLFBYFJ5ED()\", 50)\n",
       "        </script>\n",
       "        "
      ],
      "text/plain": [
       "<IPython.core.display.HTML object>"
      ]
     },
     "execution_count": 1,
     "metadata": {},
     "output_type": "execute_result"
    }
   ],
   "source": [
    "from pycharts.charts.pie_chart import PieChart\n",
    "from highcharts_plotter import HighChartsPlotter\n",
    "\n",
    "data = [\n",
    "                    ['Firefox',   45.0],\n",
    "                    ['IE',       26.8],\n",
    "                    ['Chrome', 12.8],\n",
    "                    ['Safari',    8.5],\n",
    "                    ['Opera',     6.2],\n",
    "                    ['Others',   0.7]\n",
    "        ]\n",
    "\n",
    "data_label = \"Browser share\"\n",
    "\n",
    "title = \"Browser market shares at a specific website, 2014\"\n",
    "\n",
    "piechart = PieChart(title, data_label, data)\n",
    "\n",
    "print piechart.to_javascript()\n",
    "\n",
    "plotter = HighChartsPlotter()\n",
    "plotter.plot(piechart)"
   ]
  },
  {
   "cell_type": "code",
   "execution_count": 3,
   "metadata": {
    "collapsed": false
   },
   "outputs": [
    {
     "data": {
      "text/html": [
       "\n",
       "        <script src=\"http://code.highcharts.com/highcharts.js\"></script>\n",
       "        <script src=\"http://code.highcharts.com/modules/exporting.js\"></script>\n",
       "\n",
       "        <div id=\"chart_0S7N667TCF4WW4N\" style=\"min-width: 400px; height: 400px; margin: 0 auto\">Re-run cell if chart is not shown ...</div>\n",
       "        <script>\n",
       "            do_chart_0S7N667TCF4WW4N = function() {\n",
       "                $('#chart_0S7N667TCF4WW4N').highcharts({chart: {type: 'pie', backgroundColor: '#FFFFFF'}, title: {text: 'Browser market shares at a specific website, 2014'}, plotOptions: {pie: {allowPointSelect: true, cursor: 'pointer', dataLabels: {enabled: false}, showInLegend: true},}, series: [{name: 'Browser share',data: [['Firefox', 45.0], ['IE', 26.8], ['Chrome', 12.8], ['Safari', 8.5], ['Opera', 6.2], ['Others', 0.7]]},]});\n",
       "            }\n",
       "            setTimeout(\"do_chart_0S7N667TCF4WW4N()\", 50)\n",
       "        </script>\n",
       "        "
      ],
      "text/plain": [
       "<IPython.core.display.HTML object>"
      ]
     },
     "execution_count": 3,
     "metadata": {},
     "output_type": "execute_result"
    }
   ],
   "source": [
    "plotter._highchartify(chart_def_json=piechart.to_javascript())\n"
   ]
  }
 ],
 "metadata": {
  "kernelspec": {
   "display_name": "Python 2",
   "language": "python",
   "name": "python2"
  },
  "language_info": {
   "codemirror_mode": {
    "name": "ipython",
    "version": 2
   },
   "file_extension": ".py",
   "mimetype": "text/x-python",
   "name": "python",
   "nbconvert_exporter": "python",
   "pygments_lexer": "ipython2",
   "version": "2.7.6"
  }
 },
 "nbformat": 4,
 "nbformat_minor": 0
}
