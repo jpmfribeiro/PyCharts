{
 "cells": [
  {
   "cell_type": "code",
   "execution_count": 6,
   "metadata": {
    "collapsed": false
   },
   "outputs": [
    {
     "name": "stdout",
     "output_type": "stream",
     "text": [
      "{chart: {type: 'pie', backgroundColor: '#FFFFFF'}, title: {text: 'Browser market shares at a specific website, 2014'}, plotOptions: {pie: {allowPointSelect: true, cursor: 'pointer', dataLabels: {enabled: false}, showInLegend: true},}, series: [{name: 'Browser share',data: [['Firefox', 45.0], ['IE', 26.8], ['Chrome', 12.8], ['Safari', 8.5], ['Opera', 6.2], ['Others', 0.7]]},]}\n"
     ]
    },
    {
     "data": {
      "text/html": [
       "\n",
       "        <script src=\"http://code.highcharts.com/highcharts.js\"></script>\n",
       "        <script src=\"http://code.highcharts.com/modules/exporting.js\"></script>\n",
       "        <script src=\"http://code.highcharts.com/highcharts-more.js\"></script>\n",
       "        <div id=\"chart_YPSVQCQVVVV2A99\" style=\"min-width: 400px; height: 400px; margin: 0 auto\">Re-run cell if chart is not shown ...</div>\n",
       "        <script>\n",
       "            do_chart_YPSVQCQVVVV2A99 = function() {\n",
       "                $('#chart_YPSVQCQVVVV2A99').highcharts({chart: {type: 'pie', backgroundColor: '#FFFFFF'}, title: {text: 'Browser market shares at a specific website, 2014'}, plotOptions: {pie: {allowPointSelect: true, cursor: 'pointer', dataLabels: {enabled: false}, showInLegend: true},}, series: [{name: 'Browser share',data: [['Firefox', 45.0], ['IE', 26.8], ['Chrome', 12.8], ['Safari', 8.5], ['Opera', 6.2], ['Others', 0.7]]},]});\n",
       "            }\n",
       "            setTimeout(\"do_chart_YPSVQCQVVVV2A99()\", 50)\n",
       "        </script>\n",
       "        "
      ],
      "text/plain": [
       "<IPython.core.display.HTML object>"
      ]
     },
     "execution_count": 6,
     "metadata": {},
     "output_type": "execute_result"
    }
   ],
   "source": [
    "from pycharts.charts.pie_chart import PieChart\n",
    "from pycharts.highcharts_plotter import HighChartsPlotter\n",
    "\n",
    "data = [\n",
    "                    ['Firefox',   45.0],\n",
    "                    ['IE',       26.8],\n",
    "                    ['Chrome', 12.8],\n",
    "                    ['Safari',    8.5],\n",
    "                    ['Opera',     6.2],\n",
    "                    ['Others',   0.7]\n",
    "        ]\n",
    "\n",
    "data_label = \"Browser share\"\n",
    "\n",
    "title = \"Browser market shares at a specific website, 2014\"\n",
    "\n",
    "piechart = PieChart(title, data_label, data)\n",
    "\n",
    "print piechart.to_javascript()\n",
    "\n",
    "plotter = HighChartsPlotter()\n",
    "plotter.plot(piechart)"
   ]
  },
  {
   "cell_type": "code",
   "execution_count": 10,
   "metadata": {
    "collapsed": false
   },
   "outputs": [
    {
     "name": "stdout",
     "output_type": "stream",
     "text": [
      "{chart: {type: 'bar', backgroundColor: '#FFFFFF'}, title: {text: 'How do tourists spend their money?'}, xAxis: {categories: ['Americans', 'Italians', 'Chinese', 'Brazilians', 'Germans'], title: {text: ''}}, yAxis: {title: {text: 'Total money spent'}}, legend: {reversed: true}, plotOptions: {bar: {stacking: 'percent'},}, series: [{name: 'Bakery',data: [5, 3, 4, 7, 2]},{name: 'Bars and Restaurants',data: [2, 2, 4, 3, 8]},{name: 'Shopping',data: [10, 8, 7, 6, 9]},{name: 'Jewelry',data: [5, 5, 2, 3, 3]},{name: 'Hotel',data: [8, 8, 6, 7, 6]},]}\n"
     ]
    },
    {
     "data": {
      "text/html": [
       "\n",
       "        <script src=\"http://code.highcharts.com/highcharts.js\"></script>\n",
       "        <script src=\"http://code.highcharts.com/modules/exporting.js\"></script>\n",
       "        <script src=\"http://code.highcharts.com/highcharts-more.js\"></script>\n",
       "        <div id=\"chart_WVQC1X3I45T6H70\" style=\"min-width: 400px; height: 400px; margin: 0 auto\">Re-run cell if chart is not shown ...</div>\n",
       "        <script>\n",
       "            do_chart_WVQC1X3I45T6H70 = function() {\n",
       "                $('#chart_WVQC1X3I45T6H70').highcharts({chart: {type: 'bar', backgroundColor: '#FFFFFF'}, title: {text: 'How do tourists spend their money?'}, xAxis: {categories: ['Americans', 'Italians', 'Chinese', 'Brazilians', 'Germans'], title: {text: ''}}, yAxis: {title: {text: 'Total money spent'}}, legend: {reversed: true}, plotOptions: {bar: {stacking: 'percent'},}, series: [{name: 'Bakery',data: [5, 3, 4, 7, 2]},{name: 'Bars and Restaurants',data: [2, 2, 4, 3, 8]},{name: 'Shopping',data: [10, 8, 7, 6, 9]},{name: 'Jewelry',data: [5, 5, 2, 3, 3]},{name: 'Hotel',data: [8, 8, 6, 7, 6]},]});\n",
       "            }\n",
       "            setTimeout(\"do_chart_WVQC1X3I45T6H70()\", 50)\n",
       "        </script>\n",
       "        "
      ],
      "text/plain": [
       "<IPython.core.display.HTML object>"
      ]
     },
     "execution_count": 10,
     "metadata": {},
     "output_type": "execute_result"
    }
   ],
   "source": [
    "from pycharts.charts.stacked_bar_chart import StackedBarChart\n",
    "\n",
    "title = \"How do tourists spend their money?\"\n",
    "\n",
    "categories = ['Americans', 'Italians', 'Chinese', 'Brazilians', 'Germans']\n",
    "\n",
    "data = [\n",
    "                ('Bakery', [5, 3, 4, 7, 2]),\n",
    "                ('Bars and Restaurants', [2, 2, 4, 3, 8]),\n",
    "                ('Shopping', [10, 8, 7, 6, 9]),\n",
    "                ('Jewelry', [5, 5, 2, 3, 3]),\n",
    "                ('Hotel', [8, 8, 6, 7, 6])\n",
    "]\n",
    "\n",
    "y_title = 'Total money spent'\n",
    "\n",
    "# stackedchart = StackedBarChart(title, categories, data, y_title=y_title, stacking=\"normal\")\n",
    "stackedchart = StackedBarChart(title, categories, data, y_title=y_title, stacking=\"percent\") \n",
    "\n",
    "print stackedchart.to_javascript()\n",
    "\n",
    "plotter = HighChartsPlotter()\n",
    "plotter.plot(stackedchart)"
   ]
  },
  {
   "cell_type": "code",
   "execution_count": 11,
   "metadata": {
    "collapsed": false
   },
   "outputs": [
    {
     "name": "stdout",
     "output_type": "stream",
     "text": [
      "{chart: {type: 'bubble', backgroundColor: '#FFFFFF'}, title: {text: 'How does income, life expectancy and population size relate in each continent?'}, xAxis: {title: {text: 'income'}}, yAxis: {title: {text: 'life expectancy'}}, series: [{name: 'Latin America',data: [[97, 36, 79], [94, 74, 60], [68, 76, 58], [64, 87, 56], [68, 27, 73], [74, 99, 42], [7, 93, 87], [51, 69, 40], [38, 23, 33], [57, 86, 31]]},{name: 'Asia',data: [[25, 10, 180], [2, 75, 190], [11, 54, 8], [86, 55, 93], [5, 3, 58], [90, 63, 44], [91, 33, 17], [97, 3, 56], [15, 67, 48], [54, 25, 81]]},{name: 'Africa',data: [[47, 47, 10], [20, 12, 4], [6, 76, 17], [38, 30, 6], [57, 98, 8], [61, 17, 10], [83, 60, 13], [67, 78, 50], [64, 12, 10], [30, 77, 82]]},]}\n"
     ]
    },
    {
     "data": {
      "text/html": [
       "\n",
       "        <script src=\"http://code.highcharts.com/highcharts.js\"></script>\n",
       "        <script src=\"http://code.highcharts.com/modules/exporting.js\"></script>\n",
       "        <script src=\"http://code.highcharts.com/highcharts-more.js\"></script>\n",
       "        <div id=\"chart_UYGGQGVW7OKQAMT\" style=\"min-width: 400px; height: 400px; margin: 0 auto\">Re-run cell if chart is not shown ...</div>\n",
       "        <script>\n",
       "            do_chart_UYGGQGVW7OKQAMT = function() {\n",
       "                $('#chart_UYGGQGVW7OKQAMT').highcharts({chart: {type: 'bubble', backgroundColor: '#FFFFFF'}, title: {text: 'How does income, life expectancy and population size relate in each continent?'}, xAxis: {title: {text: 'income'}}, yAxis: {title: {text: 'life expectancy'}}, series: [{name: 'Latin America',data: [[97, 36, 79], [94, 74, 60], [68, 76, 58], [64, 87, 56], [68, 27, 73], [74, 99, 42], [7, 93, 87], [51, 69, 40], [38, 23, 33], [57, 86, 31]]},{name: 'Asia',data: [[25, 10, 180], [2, 75, 190], [11, 54, 8], [86, 55, 93], [5, 3, 58], [90, 63, 44], [91, 33, 17], [97, 3, 56], [15, 67, 48], [54, 25, 81]]},{name: 'Africa',data: [[47, 47, 10], [20, 12, 4], [6, 76, 17], [38, 30, 6], [57, 98, 8], [61, 17, 10], [83, 60, 13], [67, 78, 50], [64, 12, 10], [30, 77, 82]]},]});\n",
       "            }\n",
       "            setTimeout(\"do_chart_UYGGQGVW7OKQAMT()\", 50)\n",
       "        </script>\n",
       "        "
      ],
      "text/plain": [
       "<IPython.core.display.HTML object>"
      ]
     },
     "execution_count": 11,
     "metadata": {},
     "output_type": "execute_result"
    }
   ],
   "source": [
    "from pycharts.charts.bubble_chart import BubbleChart\n",
    "from pycharts.highcharts_plotter import HighChartsPlotter\n",
    "\n",
    "title = \"How does income, life expectancy and population size relate in each continent?\"\n",
    "x_title = \"income\"\n",
    "y_title = \"life expectancy\"\n",
    "\n",
    "data = [('Latin America', [[97, 36, 79], [94, 74, 60], [68, 76, 58], [64, 87, 56], [68, 27, 73], [74, 99, 42], [7, 93, 87], [51, 69, 40], [38, 23, 33], [57, 86, 31]]),\n",
    "        ('Asia', [[25, 10, 180], [2, 75, 190], [11, 54, 8], [86, 55, 93], [5, 3, 58], [90, 63, 44], [91, 33, 17], [97, 3, 56], [15, 67, 48], [54, 25, 81]]),\n",
    "        ('Africa', [[47, 47, 10], [20, 12, 4], [6, 76, 17], [38, 30, 6], [57, 98, 8], [61, 17, 10], [83, 60, 13], [67, 78, 50], [64, 12, 10], [30, 77, 82]])]\n",
    "\n",
    "\n",
    "bubblechart = BubbleChart(title, data, x_title, y_title)\n",
    "print bubblechart.to_javascript()\n",
    "plotter = HighChartsPlotter()\n",
    "plotter.plot(bubblechart)"
   ]
  },
  {
   "cell_type": "code",
   "execution_count": 17,
   "metadata": {
    "collapsed": false
   },
   "outputs": [
    {
     "name": "stdout",
     "output_type": "stream",
     "text": [
      "{chart: {type: 'area', backgroundColor: '#FFFFFF'}, title: {text: 'What is the browser market share across time?'}, xAxis: {title: {text: 'years'}}, yAxis: {title: {text: 'share'}}, plotOptions: {area: {},}, series: [{name: 'Firefox',data: [[2009, 49], [2010, 47], [2011, 48], [2012, 46], [2013, 44], [2014, 40]]},{name: 'IE',data: [[2009, 50], [2010, 45], [2011, 46], [2012, 40], [2013, 35], [2014, 30]]},{name: 'Chrome',data: [[2009, 10], [2010, 14], [2011, 20], [2012, 26], [2013, 34], [2014, 40]]},{name: 'Safari',data: [[2009, 10], [2010, 11], [2011, 12], [2012, 11], [2013, 13], [2014, 15]]},]}\n"
     ]
    },
    {
     "data": {
      "text/html": [
       "\n",
       "        <script src=\"http://code.highcharts.com/highcharts.js\"></script>\n",
       "        <script src=\"http://code.highcharts.com/modules/exporting.js\"></script>\n",
       "        <script src=\"http://code.highcharts.com/highcharts-more.js\"></script>\n",
       "        <div id=\"chart_V2EDDHWP675LIV7\" style=\"min-width: 400px; height: 400px; margin: 0 auto\">Re-run cell if chart is not shown ...</div>\n",
       "        <script>\n",
       "            do_chart_V2EDDHWP675LIV7 = function() {\n",
       "                $('#chart_V2EDDHWP675LIV7').highcharts({chart: {type: 'area', backgroundColor: '#FFFFFF'}, title: {text: 'What is the browser market share across time?'}, xAxis: {title: {text: 'years'}}, yAxis: {title: {text: 'share'}}, plotOptions: {area: {},}, series: [{name: 'Firefox',data: [[2009, 49], [2010, 47], [2011, 48], [2012, 46], [2013, 44], [2014, 40]]},{name: 'IE',data: [[2009, 50], [2010, 45], [2011, 46], [2012, 40], [2013, 35], [2014, 30]]},{name: 'Chrome',data: [[2009, 10], [2010, 14], [2011, 20], [2012, 26], [2013, 34], [2014, 40]]},{name: 'Safari',data: [[2009, 10], [2010, 11], [2011, 12], [2012, 11], [2013, 13], [2014, 15]]},]});\n",
       "            }\n",
       "            setTimeout(\"do_chart_V2EDDHWP675LIV7()\", 50)\n",
       "        </script>\n",
       "        "
      ],
      "text/plain": [
       "<IPython.core.display.HTML object>"
      ]
     },
     "execution_count": 17,
     "metadata": {},
     "output_type": "execute_result"
    }
   ],
   "source": [
    "from pycharts.charts.area_chart import AreaChart\n",
    "\n",
    "title = \"What is the browser market share across time?\"\n",
    "\n",
    "data = [('Firefox', [[2009, 49], [2010, 47], [2011, 48], [2012, 46], [2013, 44], [2014, 40]]),\n",
    "        ('IE', [[2009, 50], [2010, 45], [2011, 46], [2012, 40], [2013, 35], [2014, 30]]),\n",
    "        ('Chrome', [[2009, 10], [2010, 14], [2011, 20], [2012, 26], [2013, 34], [2014, 40]]),\n",
    "        ('Safari', [[2009, 10], [2010, 11], [2011, 12], [2012, 11], [2013, 13], [2014, 15]])]\n",
    "\n",
    "x_title = \"years\"\n",
    "y_title = \"share\"\n",
    "\n",
    "areachart = AreaChart(title, data, stacking=\"percent\", x_title=x_title, y_title=y_title)\n",
    "print areachart.to_javascript()\n",
    "plotter = HighChartsPlotter()\n",
    "plotter.plot(areachart)"
   ]
  },
  {
   "cell_type": "code",
   "execution_count": null,
   "metadata": {
    "collapsed": true
   },
   "outputs": [],
   "source": []
  }
 ],
 "metadata": {
  "kernelspec": {
   "display_name": "Python 2",
   "language": "python",
   "name": "python2"
  },
  "language_info": {
   "codemirror_mode": {
    "name": "ipython",
    "version": 2
   },
   "file_extension": ".py",
   "mimetype": "text/x-python",
   "name": "python",
   "nbconvert_exporter": "python",
   "pygments_lexer": "ipython2",
   "version": "2.7.6"
  }
 },
 "nbformat": 4,
 "nbformat_minor": 0
}
